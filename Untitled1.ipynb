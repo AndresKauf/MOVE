{
 "cells": [
  {
   "cell_type": "code",
   "execution_count": 30,
   "id": "c999f3a2",
   "metadata": {},
   "outputs": [],
   "source": [
    "from pathlib import Path\n",
    "\n",
    "import hydra\n",
    "import numpy as np\n",
    "import torch\n",
    "from omegaconf import OmegaConf\n",
    "\n",
    "from move.data import io\n",
    "from move.data import dataloaders as dl\n",
    "from move.data import preprocessing as pp\n",
    "from move.data.perturbations import perturb_data\n",
    "from move.models import VAE"
   ]
  },
  {
   "cell_type": "code",
   "execution_count": 63,
   "id": "4cbf68da",
   "metadata": {},
   "outputs": [],
   "source": [
    "with hydra.initialize(\"src/move/conf\", version_base=\"1.1\"):\n",
    "    config = hydra.compose(\"main\", overrides=[\n",
    "        \"data.categorical_inputs=[{name:random.small.drugs,weight:1}]\",\n",
    "        \"data.continuous_inputs=[{name:random.small.proteomics,weight:1},{name:random.small.metagenomics,weight:1}]\",\n",
    "        \"data.raw_data_path=tutorial/data\",\n",
    "        \"data.interim_data_path=tutorial/interim_data\",\n",
    "        \"data.processed_data_path=tutorial/results\",        \n",
    "        \"task=identify_associations_ttest\",\n",
    "        \"task.batch_size=50\",\n",
    "        \"task.num_refits=30\",\n",
    "        \"task.target_dataset=random.small.drugs\",\n",
    "        \"task.target_value=1\",\n",
    "        \"task.model.num_hidden=[1000]\",\n",
    "        \"task.model.num_latent=150\",\n",
    "        \"task.training_loop.num_epochs=40\",\n",
    "    ])"
   ]
  },
  {
   "cell_type": "code",
   "execution_count": 67,
   "id": "c15f6c9c",
   "metadata": {},
   "outputs": [],
   "source": [
    "task_config = config.task\n",
    "\n",
    "interim_path = Path(config.data.interim_data_path)\n",
    "output_path = Path(config.data.processed_data_path) / \"identify_associations\"\n",
    "output_path.mkdir(exist_ok=True, parents=True)\n",
    "\n",
    "cat_list, cat_names, con_list, con_names = io.read_data(config)\n",
    "mappings = io.load_mappings(interim_path / \"mappings.json\")\n",
    "target_mapping = mappings[task_config.target_dataset]\n",
    "target_value = pp.one_hot_encode_single(target_mapping, task_config.target_value)"
   ]
  },
  {
   "cell_type": "code",
   "execution_count": 33,
   "id": "a088ea11",
   "metadata": {},
   "outputs": [],
   "source": [
    "train_mask, train_dataloader = dl.make_dataloader(\n",
    "    cat_list,\n",
    "    con_list,\n",
    "    shuffle=True,\n",
    "    batch_size=task_config.batch_size,\n",
    "    drop_last=True,\n",
    ")\n",
    "con_shapes = [con.shape[1] for con in con_list]\n",
    "dataloaders = perturb_data(\n",
    "    cat_list,\n",
    "    con_list,\n",
    "    config.data.categorical_names,\n",
    "    task_config.target_dataset,\n",
    "    target_value,\n",
    ")\n",
    "baseline_dataloader = dataloaders[-1]\n",
    "baseline_dataset = baseline_dataloader.dataset\n",
    "num_perturbed = len(dataloaders) - 1  # F\n",
    "num_samples = len(baseline_dataloader.sampler)  # N\n",
    "num_continuous = sum(con_shapes)  # C\n",
    "\n",
    "orig_con = baseline_dataset.con_all\n",
    "nan_mask = (orig_con == 0).numpy()  # NaN values encoded as 0s\n",
    "\n",
    "target_dataset_idx = config.data.categorical_names.index(task_config.target_dataset)\n",
    "target_dataset = cat_list[target_dataset_idx]\n",
    "feature_mask = np.all(target_dataset == target_value, axis=2)\n",
    "feature_mask |= np.sum(target_dataset, axis=2) == 0"
   ]
  },
  {
   "cell_type": "code",
   "execution_count": 46,
   "id": "7e24eae0",
   "metadata": {},
   "outputs": [],
   "source": [
    "feature_mask = np.all(target_dataset == target_value, axis=2) | (np.sum(target_dataset, axis=2) == 0)"
   ]
  },
  {
   "cell_type": "code",
   "execution_count": 69,
   "id": "a013a089",
   "metadata": {},
   "outputs": [
    {
     "data": {
      "text/plain": [
       "0.03333333333333333"
      ]
     },
     "execution_count": 69,
     "metadata": {},
     "output_type": "execute_result"
    }
   ],
   "source": [
    "normalizer = 1 / task_config.num_refits\n",
    "normalizer"
   ]
  },
  {
   "cell_type": "code",
   "execution_count": 73,
   "id": "5d5a4287",
   "metadata": {},
   "outputs": [
    {
     "data": {
      "text/plain": [
       "VAE (1240 ⇄ 1000 ⇄ 150)"
      ]
     },
     "execution_count": 73,
     "metadata": {},
     "output_type": "execute_result"
    }
   ],
   "source": [
    "model: VAE = hydra.utils.instantiate(\n",
    "    task_config.model,\n",
    "    continuous_shapes=baseline_dataset.con_shapes,\n",
    "    categorical_shapes=baseline_dataset.cat_shapes,\n",
    ")\n",
    "model.load_state_dict(torch.load(output_path / \"model_b0.pt\"))\n",
    "model.eval()"
   ]
  },
  {
   "cell_type": "code",
   "execution_count": 127,
   "id": "1c99d27e",
   "metadata": {},
   "outputs": [],
   "source": [
    "k = np.empty((num_perturbed, num_continuous))\n",
    "diff = np.zeros((num_perturbed, num_samples, num_continuous))\n",
    "for j in range(task_config.num_refits):\n",
    "    _, baseline_recon = model.reconstruct(baseline_dataloader)\n",
    "    for i in range(num_perturbed):\n",
    "        _, perturb_recon = model.reconstruct(dataloaders[i])\n",
    "        diff[i, :, :] += (perturb_recon - baseline_recon) * normalizer"
   ]
  },
  {
   "cell_type": "code",
   "execution_count": 130,
   "id": "18a4e573",
   "metadata": {},
   "outputs": [],
   "source": [
    "\n",
    "for i in range(num_perturbed):\n",
    "    mask = feature_mask[:, [i]] | nan_mask\n",
    "    delta = np.ma.masked_array(diff[i, :, :], mask=mask)\n",
    "    prob = np.mean(delta > 1e-8, axis=0).data\n",
    "    k[i, :] = np.abs(np.log(prob + 1e-8) - np.log(1 - prob + 1e-8))\n",
    "\n"
   ]
  },
  {
   "cell_type": "code",
   "execution_count": 144,
   "id": "65221cb0",
   "metadata": {},
   "outputs": [
    {
     "data": {
      "text/plain": [
       "array([], dtype=int64)"
      ]
     },
     "execution_count": 144,
     "metadata": {},
     "output_type": "execute_result"
    }
   ],
   "source": [
    "b_prob = np.exp(k) / (1 + np.exp(k))\n",
    "sort_ids = np.argsort(k, axis=None)[::-1]\n",
    "b_prob = np.take(b_prob, sort_ids)\n",
    "\n",
    "fdr = np.cumsum(1 - b_prob) / np.arange(1, b_prob.size + 1)\n",
    "is_sig = fdr < 0.05\n",
    "\n",
    "sort_ids[is_sig]"
   ]
  },
  {
   "cell_type": "code",
   "execution_count": 148,
   "id": "c8b74572",
   "metadata": {},
   "outputs": [
    {
     "data": {
      "text/plain": [
       "WindowsPath('C:/Users/zqw270/Documents/GitHub/MOVE_fork')"
      ]
     },
     "execution_count": 148,
     "metadata": {},
     "output_type": "execute_result"
    }
   ],
   "source": [
    "Path(\".\").resolve()"
   ]
  },
  {
   "cell_type": "code",
   "execution_count": 93,
   "id": "292be50e",
   "metadata": {},
   "outputs": [],
   "source": [
    "mask = feature_mask[:, [0]] | nan_mask\n",
    "delta = np.ma.masked_array(np.mean(diff, axis=0), mask)"
   ]
  },
  {
   "cell_type": "code",
   "execution_count": 119,
   "id": "59e826bb",
   "metadata": {},
   "outputs": [],
   "source": [
    "prob = np.ma.compressed(np.mean(delta > 1e-8, axis=0))\n",
    "k = np.log(prob + 1e-8) - np.log(1 - prob + 1e-8)\n",
    "#k = np.abs(k)"
   ]
  },
  {
   "cell_type": "code",
   "execution_count": 120,
   "id": "7e460ad6",
   "metadata": {},
   "outputs": [],
   "source": [
    "prob_abs = np.exp(k) / (1 + np.exp(k))\n",
    "sort_ids = np.argsort(k, axis=None)[::-1]\n",
    "prob_sort = np.take(prob_abs, sort_ids)"
   ]
  },
  {
   "cell_type": "code",
   "execution_count": 123,
   "id": "5e92d9bf",
   "metadata": {},
   "outputs": [
    {
     "data": {
      "text/plain": [
       "array([], dtype=float64)"
      ]
     },
     "execution_count": 123,
     "metadata": {},
     "output_type": "execute_result"
    }
   ],
   "source": [
    "fdr = np.cumsum(1 - prob_sort) / np.arange(1, prob.size + 1)\n",
    "prob_sort[fdr <= 0.05]"
   ]
  },
  {
   "cell_type": "code",
   "execution_count": 126,
   "id": "9cc16fe8",
   "metadata": {},
   "outputs": [
    {
     "data": {
      "text/plain": [
       "(1200,)"
      ]
     },
     "execution_count": 126,
     "metadata": {},
     "output_type": "execute_result"
    }
   ],
   "source": [
    "k.shape"
   ]
  },
  {
   "cell_type": "code",
   "execution_count": null,
   "id": "29270c1d",
   "metadata": {},
   "outputs": [],
   "source": []
  }
 ],
 "metadata": {
  "kernelspec": {
   "display_name": "Python 3 (ipykernel)",
   "language": "python",
   "name": "python3"
  },
  "language_info": {
   "codemirror_mode": {
    "name": "ipython",
    "version": 3
   },
   "file_extension": ".py",
   "mimetype": "text/x-python",
   "name": "python",
   "nbconvert_exporter": "python",
   "pygments_lexer": "ipython3",
   "version": "3.9.12"
  }
 },
 "nbformat": 4,
 "nbformat_minor": 5
}
